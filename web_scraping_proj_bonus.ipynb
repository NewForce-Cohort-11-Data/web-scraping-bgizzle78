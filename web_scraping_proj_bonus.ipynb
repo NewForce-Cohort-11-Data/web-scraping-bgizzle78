{
 "cells": [
  {
   "cell_type": "markdown",
   "id": "5a1108b1",
   "metadata": {},
   "source": [
    "Webscraping Bonus\n",
    "1. Navigate to https://www.billboard.com/charts/hot-100/. Using BeautifulSoup, extract out the This Week, artist, song, Last Week, Peak Position, and Weeks on Chart values into a pandas DataFrame. Hint: The HTML for the number one ranked song is slightly different from that of the rest of the songs."
   ]
  },
  {
   "cell_type": "code",
   "execution_count": 60,
   "id": "6afe0e2d",
   "metadata": {},
   "outputs": [],
   "source": [
    "# Import libraries\n",
    "import requests\n",
    "from bs4 import BeautifulSoup as BS\n",
    "import pandas as pd"
   ]
  },
  {
   "cell_type": "code",
   "execution_count": 63,
   "id": "0df199d2",
   "metadata": {},
   "outputs": [
    {
     "name": "stdout",
     "output_type": "stream",
     "text": [
      "<class 'requests.models.Response'>\n",
      "200\n"
     ]
    }
   ],
   "source": [
    "# Get html of billboard hot 100 page\n",
    "url = \"https://www.billboard.com/charts/hot-100/\"\n",
    "\n",
    "# Make a request to get the page content\n",
    "response = requests.get(url)\n",
    "html = response.text\n",
    "\n",
    "# Parse the HTML with BeautifulSoup\n",
    "soup = BS(html, \"html.parser\")\n",
    "\n",
    "print(type(response))\n",
    "print(response.status_code)"
   ]
  },
  {
   "cell_type": "code",
   "execution_count": 71,
   "id": "560647f9",
   "metadata": {},
   "outputs": [
    {
     "name": "stdout",
     "output_type": "stream",
     "text": [
      "This Week: 1\n",
      "Song: Gains in Weekly Performance\n",
      "Artist: HUNTR/X: EJAE, Audrey Nuna & REI AMI\n",
      "Last Week: 1\n",
      "Peak Position: 1\n",
      "Weeks on Chart: 14\n"
     ]
    }
   ],
   "source": [
    "# Billboard structures #1 differently\n",
    "first_rank = 1\n",
    "first_song = soup.find('h3', id='title-of-a-story').text.strip()\n",
    "first_artist = soup.find('span', class_='c-label').find_next('span').text.strip()\n",
    "\n",
    "# Stats for #1\n",
    "stats = soup.find_all('span', class_='c-label')\n",
    "lastweek = stats[2].text.strip()\n",
    "peak = stats[3].text.strip()\n",
    "weeks_chart = stats[4].text.strip()\n",
    "\n",
    "# Store in lists\n",
    "ranks = [first_rank]\n",
    "songs = [first_song]\n",
    "artists = [first_artist]\n",
    "last_week = [lastweek]\n",
    "peak_pos = [peak]\n",
    "weeks_on_chart = [weeks_chart]\n",
    "\n",
    "# Print to check\n",
    "print(\"This Week:\", ranks[0])\n",
    "print(\"Song:\", songs[0])\n",
    "print(\"Artist:\", artists[0])\n",
    "print(\"Last Week:\", last_week[0])\n",
    "print(\"Peak Position:\", peak_pos[0])\n",
    "print(\"Weeks on Chart:\", weeks_on_chart[0])\n"
   ]
  },
  {
   "cell_type": "code",
   "execution_count": 57,
   "id": "cd9bd381",
   "metadata": {},
   "outputs": [
    {
     "name": "stdout",
     "output_type": "stream",
     "text": [
      "Length of ranks:         100\n",
      "Length of songs:         100\n",
      "Length of artists:       100\n",
      "Length of last_week:     100\n",
      "Length of peak_pos:      100\n",
      "Length of weeks_on_chart: 100\n",
      "   This Week              Song  \\\n",
      "0          1            Golden   \n",
      "1          2          Ordinary   \n",
      "2          3          Soda Pop   \n",
      "3          4       What I Want   \n",
      "4          5         Your Idol   \n",
      "..       ...               ...   \n",
      "95        96         Which One   \n",
      "96        97           Goodbye   \n",
      "97        98           Darlin'   \n",
      "98        99        Went Legit   \n",
      "99       100  What Did I Miss?   \n",
      "\n",
      "                                               Artist  \\\n",
      "0                HUNTR/X: EJAE, Audrey Nuna & REI AMI   \n",
      "1                                         Alex Warren   \n",
      "2   Saja Boys: Andrew Choi, Neckwav, Danny Chung, ...   \n",
      "3                  Morgan Wallen Featuring Tate McRae   \n",
      "4   Saja Boys: Andrew Choi, Neckwav, Danny Chung, ...   \n",
      "..                                                ...   \n",
      "95                                Drake & Central Cee   \n",
      "96                                  Sabrina Carpenter   \n",
      "97                                      Chase Matthew   \n",
      "98                                            G Herbo   \n",
      "99                                              Drake   \n",
      "\n",
      "                                            Last Week Peak Position  \\\n",
      "0                HUNTR/X: EJAE, Audrey Nuna & REI AMI             1   \n",
      "1                                         Alex Warren             2   \n",
      "2   Saja Boys: Andrew Choi, Neckwav, Danny Chung, ...             5   \n",
      "3                  Morgan Wallen Featuring Tate McRae             4   \n",
      "4   Saja Boys: Andrew Choi, Neckwav, Danny Chung, ...             6   \n",
      "..                                                ...           ...   \n",
      "95                                Drake & Central Cee            99   \n",
      "96                                  Sabrina Carpenter            70   \n",
      "97                                                NEW           NEW   \n",
      "98                                         RE-\\nENTRY      RE-ENTRY   \n",
      "99                                              Drake            80   \n",
      "\n",
      "   Weeks on Chart  \n",
      "0               1  \n",
      "1               1  \n",
      "2               3  \n",
      "3               1  \n",
      "4               4  \n",
      "..            ...  \n",
      "95             23  \n",
      "96             33  \n",
      "97  Chase Matthew  \n",
      "98        G Herbo  \n",
      "99              2  \n",
      "\n",
      "[100 rows x 6 columns]\n"
     ]
    }
   ],
   "source": [
    "ranks = []\n",
    "songs = []\n",
    "artists = []\n",
    "last_week = []\n",
    "peak_pos = []\n",
    "weeks_on_chart = []\n",
    "\n",
    "for row in chart_rows:\n",
    "    # Rank\n",
    "    rank_tag = row.find(\"span\", class_=\"c-label\")\n",
    "    rank = rank_tag.text.strip() if rank_tag and rank_tag.text.strip().isdigit() else None\n",
    "\n",
    "    # Skip if no rank\n",
    "    if not rank:\n",
    "        continue\n",
    "\n",
    "    # Song title\n",
    "    title_tag = row.find(\"h3\", id=\"title-of-a-story\")\n",
    "    song = title_tag.text.strip() if title_tag else None\n",
    "\n",
    "    # Artist\n",
    "    artist_tag = title_tag.find_next(\"span\") if title_tag else None\n",
    "    artist = artist_tag.text.strip() if artist_tag else None\n",
    "\n",
    "    # Last Week, Peak, Weeks\n",
    "    stats = row.find_all(\"span\", class_=\"c-label\")\n",
    "    lw = stats[1].text.strip() if len(stats) > 1 else None\n",
    "    peak = stats[2].text.strip() if len(stats) > 2 else None\n",
    "    weeks = stats[3].text.strip() if len(stats) > 3 else None\n",
    "\n",
    "    # Append\n",
    "    ranks.append(rank)\n",
    "    songs.append(song)\n",
    "    artists.append(artist)\n",
    "    last_week.append(lw)\n",
    "    peak_pos.append(peak)\n",
    "    weeks_on_chart.append(weeks)\n",
    "\n",
    "print(\"Length of ranks:        \", len(ranks))\n",
    "print(\"Length of songs:        \", len(songs))\n",
    "print(\"Length of artists:      \", len(artists))\n",
    "print(\"Length of last_week:    \", len(last_week))\n",
    "print(\"Length of peak_pos:     \", len(peak_pos))\n",
    "print(\"Length of weeks_on_chart:\", len(weeks_on_chart))\n",
    "\n",
    "# Step 6: Build DataFrame (only if lengths match)\n",
    "if len({len(ranks), len(songs), len(artists), len(last_week), len(peak_pos), len(weeks_on_chart)}) == 1:\n",
    "    df = pd.DataFrame({\n",
    "        \"This Week\": ranks,\n",
    "        \"Song\": songs,\n",
    "        \"Artist\": artists,\n",
    "        \"Last Week\": last_week,\n",
    "        \"Peak Position\": peak_pos,\n",
    "        \"Weeks on Chart\": weeks_on_chart\n",
    "    })\n",
    "    print(df)\n",
    "else:\n",
    "    print(\"⚠️ Warning: Lists have different lengths, check parsing logic.\")\n"
   ]
  },
  {
   "cell_type": "markdown",
   "id": "e3d84f65",
   "metadata": {},
   "source": [
    "2. After getting the code working for the current chart, navigate to last week's chart. Notice how the url for the page changes. Write a function which will, given a date, return a pandas DataFrame containing the Billboard chart data for that date."
   ]
  },
  {
   "cell_type": "code",
   "execution_count": null,
   "id": "10bf464e",
   "metadata": {},
   "outputs": [],
   "source": []
  },
  {
   "cell_type": "markdown",
   "id": "271a476f",
   "metadata": {},
   "source": [
    "3. Write a loop to retrieve the Billboard chart data for the last 10 weeks."
   ]
  },
  {
   "cell_type": "code",
   "execution_count": null,
   "id": "92212ca3",
   "metadata": {},
   "outputs": [],
   "source": []
  }
 ],
 "metadata": {
  "kernelspec": {
   "display_name": "base",
   "language": "python",
   "name": "python3"
  },
  "language_info": {
   "codemirror_mode": {
    "name": "ipython",
    "version": 3
   },
   "file_extension": ".py",
   "mimetype": "text/x-python",
   "name": "python",
   "nbconvert_exporter": "python",
   "pygments_lexer": "ipython3",
   "version": "3.13.5"
  }
 },
 "nbformat": 4,
 "nbformat_minor": 5
}
