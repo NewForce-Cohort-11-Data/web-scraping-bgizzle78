{
 "cells": [
  {
   "cell_type": "markdown",
   "id": "5a1108b1",
   "metadata": {},
   "source": [
    "Webscraping Bonus\n",
    "1. Navigate to https://www.billboard.com/charts/hot-100/. Using BeautifulSoup, extract out the This Week, artist, song, Last Week, Peak Position, and Weeks on Chart values into a pandas DataFrame. Hint: The HTML for the number one ranked song is slightly different from that of the rest of the songs."
   ]
  },
  {
   "cell_type": "code",
   "execution_count": 9,
   "id": "6afe0e2d",
   "metadata": {},
   "outputs": [],
   "source": [
    "# Import libraries\n",
    "import requests\n",
    "from bs4 import BeautifulSoup as BS\n",
    "import pandas as pd"
   ]
  },
  {
   "cell_type": "code",
   "execution_count": 10,
   "id": "0df199d2",
   "metadata": {},
   "outputs": [
    {
     "name": "stdout",
     "output_type": "stream",
     "text": [
      "<class 'requests.models.Response'>\n",
      "200\n"
     ]
    }
   ],
   "source": [
    "# Get html of billboard hot 100 page\n",
    "url = \"https://www.billboard.com/charts/hot-100/\"\n",
    "\n",
    "# Make a request to get the page content\n",
    "response = requests.get(url)\n",
    "html = response.text\n",
    "\n",
    "# Parse the HTML with BeautifulSoup\n",
    "soup = BS(html, \"html.parser\")\n",
    "\n",
    "print(type(response))\n",
    "print(response.status_code)"
   ]
  },
  {
   "cell_type": "code",
   "execution_count": 11,
   "id": "560647f9",
   "metadata": {},
   "outputs": [
    {
     "name": "stdout",
     "output_type": "stream",
     "text": [
      "This Week: 1\n",
      "Song: Golden\n",
      "Artist: HUNTR/X: EJAE, Audrey Nuna & REI AMI\n",
      "Last Week: 1\n",
      "Peak Position: 1\n",
      "Weeks on Chart: 15\n"
     ]
    }
   ],
   "source": [
    "# Billboard structures #1 differently\n",
    "first_rank = soup.find('li', class_='o-chart-results-list__item').text.strip()\n",
    "first_song = soup.find_all('h3', id='title-of-a-story')[2].text.strip()\n",
    "first_artist = soup.find_all('span', class_='c-label')[1].text.strip()\n",
    "\n",
    "# Stats for #1\n",
    "stats = soup.find_all('span', class_='c-label')\n",
    "lastweek = stats[2].text.strip()\n",
    "peak = stats[3].text.strip()\n",
    "weeks_chart = stats[4].text.strip()\n",
    "\n",
    "# Store in lists\n",
    "ranks = [first_rank]\n",
    "songs = [first_song]\n",
    "artists = [first_artist]\n",
    "last_week = [lastweek]\n",
    "peak_pos = [peak]\n",
    "weeks_on_chart = [weeks_chart]\n",
    "\n",
    "# Print to check\n",
    "print(\"This Week:\", ranks[0])\n",
    "print(\"Song:\", songs[0])\n",
    "print(\"Artist:\", artists[0])\n",
    "print(\"Last Week:\", last_week[0])\n",
    "print(\"Peak Position:\", peak_pos[0])\n",
    "print(\"Weeks on Chart:\", weeks_on_chart[0])"
   ]
  },
  {
   "cell_type": "code",
   "execution_count": 15,
   "id": "80a0279f",
   "metadata": {},
   "outputs": [
    {
     "name": "stdout",
     "output_type": "stream",
     "text": [
      "Hot 100 chart\n",
      "\n",
      "Shape: (100, 6)\n"
     ]
    },
    {
     "data": {
      "application/vnd.microsoft.datawrangler.viewer.v0+json": {
       "columns": [
        {
         "name": "index",
         "rawType": "int64",
         "type": "integer"
        },
        {
         "name": "This Week",
         "rawType": "object",
         "type": "string"
        },
        {
         "name": "Song",
         "rawType": "object",
         "type": "string"
        },
        {
         "name": "Artist",
         "rawType": "object",
         "type": "string"
        },
        {
         "name": "Last Week",
         "rawType": "object",
         "type": "string"
        },
        {
         "name": "Peak Position",
         "rawType": "object",
         "type": "string"
        },
        {
         "name": "Weeks on Chart",
         "rawType": "object",
         "type": "string"
        }
       ],
       "ref": "6f6450a3-cb03-48aa-acb5-365a920907ed",
       "rows": [
        [
         "0",
         "1",
         "Golden",
         "HUNTR/X: EJAE, Audrey Nuna & REI AMI",
         "1",
         "1",
         "15"
        ],
        [
         "1",
         "2",
         "Ordinary",
         "Alex Warren",
         "2",
         "1",
         "34"
        ],
        [
         "2",
         "3",
         "Tit For Tat",
         "Tate McRae",
         "-",
         "3",
         "1"
        ],
        [
         "3",
         "4",
         "What I Want",
         "Morgan Wallen Featuring Tate McRae",
         "4",
         "1",
         "20"
        ],
        [
         "4",
         "5",
         "Daisies",
         "Justin Bieber",
         "8",
         "2",
         "12"
        ]
       ],
       "shape": {
        "columns": 6,
        "rows": 5
       }
      },
      "text/html": [
       "<div>\n",
       "<style scoped>\n",
       "    .dataframe tbody tr th:only-of-type {\n",
       "        vertical-align: middle;\n",
       "    }\n",
       "\n",
       "    .dataframe tbody tr th {\n",
       "        vertical-align: top;\n",
       "    }\n",
       "\n",
       "    .dataframe thead th {\n",
       "        text-align: right;\n",
       "    }\n",
       "</style>\n",
       "<table border=\"1\" class=\"dataframe\">\n",
       "  <thead>\n",
       "    <tr style=\"text-align: right;\">\n",
       "      <th></th>\n",
       "      <th>This Week</th>\n",
       "      <th>Song</th>\n",
       "      <th>Artist</th>\n",
       "      <th>Last Week</th>\n",
       "      <th>Peak Position</th>\n",
       "      <th>Weeks on Chart</th>\n",
       "    </tr>\n",
       "  </thead>\n",
       "  <tbody>\n",
       "    <tr>\n",
       "      <th>0</th>\n",
       "      <td>1</td>\n",
       "      <td>Golden</td>\n",
       "      <td>HUNTR/X: EJAE, Audrey Nuna &amp; REI AMI</td>\n",
       "      <td>1</td>\n",
       "      <td>1</td>\n",
       "      <td>15</td>\n",
       "    </tr>\n",
       "    <tr>\n",
       "      <th>1</th>\n",
       "      <td>2</td>\n",
       "      <td>Ordinary</td>\n",
       "      <td>Alex Warren</td>\n",
       "      <td>2</td>\n",
       "      <td>1</td>\n",
       "      <td>34</td>\n",
       "    </tr>\n",
       "    <tr>\n",
       "      <th>2</th>\n",
       "      <td>3</td>\n",
       "      <td>Tit For Tat</td>\n",
       "      <td>Tate McRae</td>\n",
       "      <td>-</td>\n",
       "      <td>3</td>\n",
       "      <td>1</td>\n",
       "    </tr>\n",
       "    <tr>\n",
       "      <th>3</th>\n",
       "      <td>4</td>\n",
       "      <td>What I Want</td>\n",
       "      <td>Morgan Wallen Featuring Tate McRae</td>\n",
       "      <td>4</td>\n",
       "      <td>1</td>\n",
       "      <td>20</td>\n",
       "    </tr>\n",
       "    <tr>\n",
       "      <th>4</th>\n",
       "      <td>5</td>\n",
       "      <td>Daisies</td>\n",
       "      <td>Justin Bieber</td>\n",
       "      <td>8</td>\n",
       "      <td>2</td>\n",
       "      <td>12</td>\n",
       "    </tr>\n",
       "  </tbody>\n",
       "</table>\n",
       "</div>"
      ],
      "text/plain": [
       "  This Week         Song                                Artist Last Week  \\\n",
       "0         1       Golden  HUNTR/X: EJAE, Audrey Nuna & REI AMI         1   \n",
       "1         2     Ordinary                           Alex Warren         2   \n",
       "2         3  Tit For Tat                            Tate McRae         -   \n",
       "3         4  What I Want    Morgan Wallen Featuring Tate McRae         4   \n",
       "4         5      Daisies                         Justin Bieber         8   \n",
       "\n",
       "  Peak Position Weeks on Chart  \n",
       "0             1             15  \n",
       "1             1             34  \n",
       "2             3              1  \n",
       "3             1             20  \n",
       "4             2             12  "
      ]
     },
     "execution_count": 15,
     "metadata": {},
     "output_type": "execute_result"
    }
   ],
   "source": [
    "data = []\n",
    "\n",
    "# Find all song rows (each <ul> = one song entry)\n",
    "chart_rows = soup.find_all(\"ul\", class_=\"o-chart-results-list-row\")\n",
    "\n",
    "for row in chart_rows:\n",
    "    # Song Rank\n",
    "    rank_tag = row.find(\"span\", class_=\"c-label\")\n",
    "    rank = rank_tag.text.strip() if rank_tag else \"N/A\"\n",
    "\n",
    "    # Song title\n",
    "    song_tag = row.find(\"h3\", class_=\"c-title\")\n",
    "    song = song_tag.text.strip() if song_tag else \"N/A\"\n",
    "\n",
    "    # Artist name\n",
    "    artist_tag = row.find(\"span\", class_=\"c-label a-no-trucate\")\n",
    "    if artist_tag:\n",
    "        artist = artist_tag.text.strip()\n",
    "    else:\n",
    "        backup = row.find(\"ul\", class_=\"lrv-a-unstyle-list\")\n",
    "        artist = backup.find(\"span\").text.strip() if backup else \"N/A\"\n",
    "\n",
    "    # Song stats (last week, peak, weeks on chart)\n",
    "    stats = row.find_all(\"span\", class_=\"c-label\")\n",
    "    if len(stats) >= 3:\n",
    "        last_week = stats[-3].text.strip()\n",
    "        peak = stats[-2].text.strip()\n",
    "        weeks = stats[-1].text.strip()\n",
    "    else:\n",
    "        last_week = peak = weeks = \"N/A\"\n",
    "\n",
    "    # Save into data list\n",
    "    data.append({\n",
    "        \"This Week\": rank,\n",
    "        \"Song\": song,\n",
    "        \"Artist\": artist,\n",
    "        \"Last Week\": last_week,\n",
    "        \"Peak Position\": peak,\n",
    "        \"Weeks on Chart\": weeks\n",
    "    })\n",
    "\n",
    "# Build DataFrame\n",
    "df = pd.DataFrame(data)\n",
    "\n",
    "# Show summary info\n",
    "print(\"Hot\", len(df), \"chart\")\n",
    "print(\"\\nShape:\", df.shape)\n",
    "df.head()"
   ]
  },
  {
   "cell_type": "markdown",
   "id": "e3d84f65",
   "metadata": {},
   "source": [
    "2. After getting the code working for the current chart, navigate to last week's chart. Notice how the url for the page changes. Write a function which will, given a date, return a pandas DataFrame containing the Billboard chart data for that date."
   ]
  },
  {
   "cell_type": "code",
   "execution_count": null,
   "id": "10bf464e",
   "metadata": {},
   "outputs": [],
   "source": []
  },
  {
   "cell_type": "markdown",
   "id": "271a476f",
   "metadata": {},
   "source": [
    "3. Write a loop to retrieve the Billboard chart data for the last 10 weeks."
   ]
  },
  {
   "cell_type": "code",
   "execution_count": null,
   "id": "92212ca3",
   "metadata": {},
   "outputs": [],
   "source": []
  }
 ],
 "metadata": {
  "kernelspec": {
   "display_name": "base",
   "language": "python",
   "name": "python3"
  },
  "language_info": {
   "codemirror_mode": {
    "name": "ipython",
    "version": 3
   },
   "file_extension": ".py",
   "mimetype": "text/x-python",
   "name": "python",
   "nbconvert_exporter": "python",
   "pygments_lexer": "ipython3",
   "version": "3.13.5"
  }
 },
 "nbformat": 4,
 "nbformat_minor": 5
}
