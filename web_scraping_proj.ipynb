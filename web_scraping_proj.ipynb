{
 "cells": [
  {
   "cell_type": "markdown",
   "id": "895e4938",
   "metadata": {},
   "source": [
    "Webscraping\n",
    "In this exercise, you'll practice using BeautifulSoup to parse the content of a web page. The page that you'll be scraping, https://realpython.github.io/fake-jobs/, contains job listings. Your job is to extract the data on each job and convert into a pandas DataFrame."
   ]
  },
  {
   "cell_type": "code",
   "execution_count": 2,
   "id": "670e260f",
   "metadata": {},
   "outputs": [],
   "source": [
    "# Import libraries\n",
    "import pandas as pd\n",
    "from bs4 import BeautifulSoup as BS\n",
    "import requests"
   ]
  },
  {
   "cell_type": "markdown",
   "id": "8e329c14",
   "metadata": {},
   "source": [
    "1. Start by performing a GET request on the url above and convert the response into a BeautifulSoup object."
   ]
  },
  {
   "cell_type": "code",
   "execution_count": 7,
   "id": "84788d56",
   "metadata": {},
   "outputs": [],
   "source": [
    "# Perform a GET request and pass in the desired url\n",
    "url = \"https://realpython.github.io/fake-jobs/\"\n",
    "response = requests.get(url)\n",
    "\n",
    "# Convert the response into a BeautifulSoup object\n",
    "soup = BS(response.text, \"html.parser\")"
   ]
  },
  {
   "cell_type": "code",
   "execution_count": 8,
   "id": "45da4fb0",
   "metadata": {},
   "outputs": [
    {
     "data": {
      "text/plain": [
       "requests.models.Response"
      ]
     },
     "execution_count": 8,
     "metadata": {},
     "output_type": "execute_result"
    }
   ],
   "source": [
    "type(response)"
   ]
  },
  {
   "cell_type": "code",
   "execution_count": 9,
   "id": "f3fb8ee7",
   "metadata": {},
   "outputs": [
    {
     "data": {
      "text/plain": [
       "200"
      ]
     },
     "execution_count": 9,
     "metadata": {},
     "output_type": "execute_result"
    }
   ],
   "source": [
    "response.status_code"
   ]
  },
  {
   "cell_type": "markdown",
   "id": "f4134329",
   "metadata": {},
   "source": [
    "1.a. Use the .find method to find the tag containing the first job title (\"Senior Python Developer\"). Hint: can you find a tag type and/or a class that could be helpful for extracting this information? Extract the text from this title."
   ]
  },
  {
   "cell_type": "code",
   "execution_count": null,
   "id": "df7eaeb3",
   "metadata": {},
   "outputs": [
    {
     "name": "stdout",
     "output_type": "stream",
     "text": [
      "Senior Python Developer\n"
     ]
    }
   ],
   "source": [
    "# Find the first job title. # Use class= when you know the tags class and want to filter by it.\n",
    "first_job = soup.find(\"h2\", class_=\"title is-5\")\n",
    "print(first_job.text.strip())  # Should print \"Senior Python Developer\""
   ]
  },
  {
   "cell_type": "markdown",
   "id": "d638b392",
   "metadata": {},
   "source": [
    "1. b. Now, use what you did for the first title, but extract the job title for all jobs on this page. Store the results in a list."
   ]
  },
  {
   "cell_type": "code",
   "execution_count": null,
   "id": "4bcc374a",
   "metadata": {},
   "outputs": [
    {
     "name": "stdout",
     "output_type": "stream",
     "text": [
      "['Senior Python Developer', 'Energy engineer', 'Legal executive', 'Fitness centre manager', 'Product manager', 'Medical technical officer', 'Physiological scientist', 'Textile designer', 'Television floor manager', 'Waste management officer', 'Software Engineer (Python)', 'Interpreter', 'Architect', 'Meteorologist', 'Audiological scientist', 'English as a second language teacher', 'Surgeon', 'Equities trader', 'Newspaper journalist', 'Materials engineer', 'Python Programmer (Entry-Level)', 'Product/process development scientist', 'Scientist, research (maths)', 'Ecologist', 'Materials engineer', 'Historic buildings inspector/conservation officer', 'Data scientist', 'Psychiatrist', 'Structural engineer', 'Immigration officer', 'Python Programmer (Entry-Level)', 'Neurosurgeon', 'Broadcast engineer', 'Make', 'Nurse, adult', 'Air broker', 'Editor, film/video', 'Production assistant, radio', 'Engineer, communications', 'Sales executive', 'Software Developer (Python)', 'Futures trader', 'Tour manager', 'Cytogeneticist', 'Designer, multimedia', 'Trade union research officer', 'Chemist, analytical', 'Programmer, multimedia', 'Engineer, broadcasting (operations)', 'Teacher, primary school', 'Python Developer', 'Manufacturing systems engineer', 'Producer, television/film/video', 'Scientist, forensic', 'Bonds trader', 'Editorial assistant', 'Photographer', 'Retail banker', 'Jewellery designer', 'Ophthalmologist', 'Back-End Web Developer (Python, Django)', 'Licensed conveyancer', 'Futures trader', 'Counselling psychologist', 'Insurance underwriter', 'Engineer, automotive', 'Producer, radio', 'Dispensing optician', 'Designer, fashion/clothing', 'Chartered loss adjuster', 'Back-End Web Developer (Python, Django)', 'Forest/woodland manager', 'Clinical cytogeneticist', 'Print production planner', 'Systems developer', 'Graphic designer', 'Writer', 'Field seismologist', 'Chief Strategy Officer', 'Air cabin crew', 'Python Programmer (Entry-Level)', 'Warden/ranger', 'Sports therapist', 'Arts development officer', 'Printmaker', 'Health and safety adviser', 'Manufacturing systems engineer', 'Programmer, applications', 'Medical physicist', 'Media planner', 'Software Developer (Python)', 'Surveyor, land/geomatics', 'Legal executive', 'Librarian, academic', 'Barrister', 'Museum/gallery exhibitions officer', 'Radiographer, diagnostic', 'Database administrator', 'Furniture designer', 'Ship broker']\n"
     ]
    }
   ],
   "source": [
    "# Extract all jobs\n",
    "titles = [job.text.strip() for job in soup.find_all(\"h2\", class_=\"title is-5\")]\n",
    "print(titles)"
   ]
  },
  {
   "cell_type": "markdown",
   "id": "002eb133",
   "metadata": {},
   "source": [
    "1. c. Finally, extract the companies, locations, and posting dates for each job. For example, the first job has a company of \"Payne, Roberts and Davis\", a location of \"Stewartbury, AA\", and a posting date of \"2021-04-08\". Ensure that the text that you extract is clean, meaning no extra spaces or other characters at the beginning or end."
   ]
  },
  {
   "cell_type": "code",
   "execution_count": 16,
   "id": "a8effc63",
   "metadata": {},
   "outputs": [
    {
     "name": "stdout",
     "output_type": "stream",
     "text": [
      "['Payne, Roberts and Davis', 'Vasquez-Davidson', 'Jackson, Chambers and Levy', 'Savage-Bradley', 'Ramirez Inc', 'Rogers-Yates', 'Kramer-Klein', 'Meyers-Johnson', 'Hughes-Williams', 'Jones, Williams and Villa', 'Garcia PLC', 'Gregory and Sons', 'Clark, Garcia and Sosa', 'Bush PLC', 'Salazar-Meyers', 'Parker, Murphy and Brooks', 'Cruz-Brown', 'Macdonald-Ferguson', 'Williams, Peterson and Rojas', 'Smith and Sons', 'Moss, Duncan and Allen', 'Gomez-Carroll', 'Manning, Welch and Herring', 'Lee, Gutierrez and Brown', 'Davis, Serrano and Cook', 'Smith LLC', 'Thomas Group', 'Silva-King', 'Pierce-Long', 'Walker-Simpson', 'Cooper and Sons', 'Donovan, Gonzalez and Figueroa', 'Morgan, Butler and Bennett', 'Snyder-Lee', 'Harris PLC', 'Washington PLC', 'Brown, Price and Campbell', 'Mcgee PLC', 'Dixon Inc', 'Thompson, Sheppard and Ward', 'Adams-Brewer', 'Schneider-Brady', 'Gonzales-Frank', 'Smith-Wong', 'Pierce-Herrera', 'Aguilar, Rivera and Quinn', 'Lowe, Barnes and Thomas', 'Lewis, Gonzalez and Vasquez', 'Taylor PLC', 'Oliver, Jones and Ramirez', 'Rivera and Sons', 'Garcia PLC', 'Johnson, Wells and Kramer', 'Gonzalez LLC', 'Morgan, White and Macdonald', 'Robinson-Fitzpatrick', 'Waters, Wilson and Hoover', 'Hill LLC', 'Li-Gregory', 'Fisher, Ryan and Coleman', 'Stewart-Alexander', 'Abbott and Sons', 'Bryant, Santana and Davenport', 'Smith PLC', 'Patterson-Singh', 'Martinez-Berry', 'May, Taylor and Fisher', 'Bailey, Owen and Thompson', 'Vasquez Ltd', 'Leblanc LLC', 'Jackson, Ali and Mckee', 'Blankenship, Knight and Powell', 'Patton, Haynes and Jones', 'Wood Inc', 'Collins Group', 'Flores-Nelson', 'Mitchell, Jones and Olson', 'Howard Group', 'Kramer-Edwards', 'Berry-Houston', 'Mathews Inc', 'Riley-Johnson', 'Spencer and Sons', 'Camacho-Sanchez', 'Oliver and Sons', 'Eaton PLC', 'Stanley-Frederick', 'Bradley LLC', 'Parker, Goodwin and Zavala', 'Kim-Miles', 'Moreno-Rodriguez', 'Brown-Ortiz', 'Hartman PLC', 'Brooks Inc', 'Washington-Castillo', 'Nguyen, Yoder and Petty', 'Holder LLC', 'Yates-Ferguson', 'Ortega-Lawrence', 'Fuentes, Walls and Castro']\n",
      "['Stewartbury, AA', 'Christopherville, AA', 'Port Ericaburgh, AA', 'East Seanview, AP', 'North Jamieview, AP', 'Davidville, AP', 'South Christopher, AE', 'Port Jonathan, AE', 'Osbornetown, AE', 'Scotttown, AP', 'Ericberg, AE', 'Ramireztown, AE', 'Figueroaview, AA', 'Kelseystad, AA', 'Williamsburgh, AE', 'Mitchellburgh, AE', 'West Jessicabury, AA', 'Maloneshire, AE', 'Johnsonton, AA', 'South Davidtown, AP', 'Port Sara, AE', 'Marktown, AA', 'Laurenland, AE', 'Lauraton, AP', 'South Tammyberg, AP', 'North Brandonville, AP', 'Port Robertfurt, AA', 'Burnettbury, AE', 'Herbertside, AA', 'Christopherport, AP', 'West Victor, AE', 'Port Aaron, AP', 'Loribury, AA', 'Angelastad, AP', 'Larrytown, AE', 'West Colin, AP', 'West Stephanie, AP', 'Laurentown, AP', 'Wrightberg, AP', 'Alberttown, AE', 'Brockburgh, AE', 'North Jason, AE', 'Arnoldhaven, AE', 'Lake Destiny, AP', 'South Timothyburgh, AP', 'New Jimmyton, AE', 'New Lucasbury, AP', 'Port Cory, AE', 'Gileston, AA', 'Cindyshire, AA', 'East Michaelfort, AA', 'Joybury, AE', 'Emmatown, AE', 'Colehaven, AP', 'Port Coryton, AE', 'Amyborough, AA', 'Reynoldsville, AA', 'Port Billy, AP', 'Adamburgh, AA', 'Wilsonmouth, AA', 'South Kimberly, AA', 'Benjaminland, AP', 'Zacharyport, AA', 'Port Devonville, AE', 'East Thomas, AE', 'New Jeffrey, AP', 'Davidside, AA', 'Jamesville, AA', 'New Kelly, AP', 'Lake Antonio, AA', 'New Elizabethside, AA', 'Millsbury, AE', 'Lloydton, AP', 'Port Jeremy, AA', 'New Elizabethtown, AA', 'Charlesstad, AE', 'Josephbury, AE', 'Seanfurt, AA', 'Williambury, AA', 'South Jorgeside, AP', 'Robertborough, AP', 'South Saratown, AP', 'Hullview, AA', 'Philipland, AP', 'North Patty, AE', 'North Stephen, AE', 'Stevensland, AP', 'Reyesstad, AE', 'Bellberg, AP', 'North Johnland, AE', 'Martinezburgh, AE', 'Joshuatown, AE', 'West Ericstad, AA', 'Tuckertown, AE', 'Perezton, AE', 'Lake Abigail, AE', 'Jacobshire, AP', 'Port Susan, AE', 'North Tiffany, AA', 'Michelleville, AP']\n",
      "['2021-04-08', '2021-04-08', '2021-04-08', '2021-04-08', '2021-04-08', '2021-04-08', '2021-04-08', '2021-04-08', '2021-04-08', '2021-04-08', '2021-04-08', '2021-04-08', '2021-04-08', '2021-04-08', '2021-04-08', '2021-04-08', '2021-04-08', '2021-04-08', '2021-04-08', '2021-04-08', '2021-04-08', '2021-04-08', '2021-04-08', '2021-04-08', '2021-04-08', '2021-04-08', '2021-04-08', '2021-04-08', '2021-04-08', '2021-04-08', '2021-04-08', '2021-04-08', '2021-04-08', '2021-04-08', '2021-04-08', '2021-04-08', '2021-04-08', '2021-04-08', '2021-04-08', '2021-04-08', '2021-04-08', '2021-04-08', '2021-04-08', '2021-04-08', '2021-04-08', '2021-04-08', '2021-04-08', '2021-04-08', '2021-04-08', '2021-04-08', '2021-04-08', '2021-04-08', '2021-04-08', '2021-04-08', '2021-04-08', '2021-04-08', '2021-04-08', '2021-04-08', '2021-04-08', '2021-04-08', '2021-04-08', '2021-04-08', '2021-04-08', '2021-04-08', '2021-04-08', '2021-04-08', '2021-04-08', '2021-04-08', '2021-04-08', '2021-04-08', '2021-04-08', '2021-04-08', '2021-04-08', '2021-04-08', '2021-04-08', '2021-04-08', '2021-04-08', '2021-04-08', '2021-04-08', '2021-04-08', '2021-04-08', '2021-04-08', '2021-04-08', '2021-04-08', '2021-04-08', '2021-04-08', '2021-04-08', '2021-04-08', '2021-04-08', '2021-04-08', '2021-04-08', '2021-04-08', '2021-04-08', '2021-04-08', '2021-04-08', '2021-04-08', '2021-04-08', '2021-04-08', '2021-04-08', '2021-04-08']\n"
     ]
    }
   ],
   "source": [
    "# Extract companies, locations, and dates\n",
    "companies = [company.text.strip() for company in soup.find_all(\"h3\", class_=\"subtitle is-6 company\")]\n",
    "locations = [loc.text.strip() for loc in soup.find_all(\"p\", class_=\"location\")]\n",
    "dates = [time.text.strip() for time in soup.find_all(\"time\")]\n",
    "print(companies)\n",
    "print(locations)\n",
    "print(dates)"
   ]
  },
  {
   "cell_type": "markdown",
   "id": "a9a4ebef",
   "metadata": {},
   "source": [
    "1. d. Take the lists that you have created and combine them into a pandas DataFrame."
   ]
  },
  {
   "cell_type": "code",
   "execution_count": 17,
   "id": "01c8c390",
   "metadata": {},
   "outputs": [
    {
     "name": "stdout",
     "output_type": "stream",
     "text": [
      "                     Title                     Company              Location  \\\n",
      "0  Senior Python Developer    Payne, Roberts and Davis       Stewartbury, AA   \n",
      "1          Energy engineer            Vasquez-Davidson  Christopherville, AA   \n",
      "2          Legal executive  Jackson, Chambers and Levy   Port Ericaburgh, AA   \n",
      "3   Fitness centre manager              Savage-Bradley     East Seanview, AP   \n",
      "4          Product manager                 Ramirez Inc   North Jamieview, AP   \n",
      "\n",
      "         Date  \n",
      "0  2021-04-08  \n",
      "1  2021-04-08  \n",
      "2  2021-04-08  \n",
      "3  2021-04-08  \n",
      "4  2021-04-08  \n"
     ]
    }
   ],
   "source": [
    "# Put exerything into a dataframe\n",
    "jobs_df = pd.DataFrame({\n",
    "    \"Title\": titles,\n",
    "    \"Company\": companies,\n",
    "    \"Location\": locations,\n",
    "    \"Date\": dates\n",
    "})\n",
    "\n",
    "print(jobs_df.head())"
   ]
  },
  {
   "cell_type": "markdown",
   "id": "e98dbe7c",
   "metadata": {},
   "source": [
    "2. Next, add a column that contains the url for the \"Apply\" button. Try this in two ways.\n",
    "a. First, use the BeautifulSoup find_all method to extract the urls."
   ]
  },
  {
   "cell_type": "code",
   "execution_count": null,
   "id": "4f44b490",
   "metadata": {},
   "outputs": [
    {
     "name": "stdout",
     "output_type": "stream",
     "text": [
      "['https://realpython.github.io/fake-jobs/jobs/senior-python-developer-0.html', 'https://realpython.github.io/fake-jobs/jobs/energy-engineer-1.html', 'https://realpython.github.io/fake-jobs/jobs/legal-executive-2.html', 'https://realpython.github.io/fake-jobs/jobs/fitness-centre-manager-3.html', 'https://realpython.github.io/fake-jobs/jobs/product-manager-4.html', 'https://realpython.github.io/fake-jobs/jobs/medical-technical-officer-5.html', 'https://realpython.github.io/fake-jobs/jobs/physiological-scientist-6.html', 'https://realpython.github.io/fake-jobs/jobs/textile-designer-7.html', 'https://realpython.github.io/fake-jobs/jobs/television-floor-manager-8.html', 'https://realpython.github.io/fake-jobs/jobs/waste-management-officer-9.html', 'https://realpython.github.io/fake-jobs/jobs/software-engineer-python-10.html', 'https://realpython.github.io/fake-jobs/jobs/interpreter-11.html', 'https://realpython.github.io/fake-jobs/jobs/architect-12.html', 'https://realpython.github.io/fake-jobs/jobs/meteorologist-13.html', 'https://realpython.github.io/fake-jobs/jobs/audiological-scientist-14.html', 'https://realpython.github.io/fake-jobs/jobs/english-as-a-second-language-teacher-15.html', 'https://realpython.github.io/fake-jobs/jobs/surgeon-16.html', 'https://realpython.github.io/fake-jobs/jobs/equities-trader-17.html', 'https://realpython.github.io/fake-jobs/jobs/newspaper-journalist-18.html', 'https://realpython.github.io/fake-jobs/jobs/materials-engineer-19.html', 'https://realpython.github.io/fake-jobs/jobs/python-programmer-entry-level-20.html', 'https://realpython.github.io/fake-jobs/jobs/product-process-development-scientist-21.html', 'https://realpython.github.io/fake-jobs/jobs/scientist-research-maths-22.html', 'https://realpython.github.io/fake-jobs/jobs/ecologist-23.html', 'https://realpython.github.io/fake-jobs/jobs/materials-engineer-24.html', 'https://realpython.github.io/fake-jobs/jobs/historic-buildings-inspector-conservation-officer-25.html', 'https://realpython.github.io/fake-jobs/jobs/data-scientist-26.html', 'https://realpython.github.io/fake-jobs/jobs/psychiatrist-27.html', 'https://realpython.github.io/fake-jobs/jobs/structural-engineer-28.html', 'https://realpython.github.io/fake-jobs/jobs/immigration-officer-29.html', 'https://realpython.github.io/fake-jobs/jobs/python-programmer-entry-level-30.html', 'https://realpython.github.io/fake-jobs/jobs/neurosurgeon-31.html', 'https://realpython.github.io/fake-jobs/jobs/broadcast-engineer-32.html', 'https://realpython.github.io/fake-jobs/jobs/make-33.html', 'https://realpython.github.io/fake-jobs/jobs/nurse-adult-34.html', 'https://realpython.github.io/fake-jobs/jobs/air-broker-35.html', 'https://realpython.github.io/fake-jobs/jobs/editor-film-video-36.html', 'https://realpython.github.io/fake-jobs/jobs/production-assistant-radio-37.html', 'https://realpython.github.io/fake-jobs/jobs/engineer-communications-38.html', 'https://realpython.github.io/fake-jobs/jobs/sales-executive-39.html', 'https://realpython.github.io/fake-jobs/jobs/software-developer-python-40.html', 'https://realpython.github.io/fake-jobs/jobs/futures-trader-41.html', 'https://realpython.github.io/fake-jobs/jobs/tour-manager-42.html', 'https://realpython.github.io/fake-jobs/jobs/cytogeneticist-43.html', 'https://realpython.github.io/fake-jobs/jobs/designer-multimedia-44.html', 'https://realpython.github.io/fake-jobs/jobs/trade-union-research-officer-45.html', 'https://realpython.github.io/fake-jobs/jobs/chemist-analytical-46.html', 'https://realpython.github.io/fake-jobs/jobs/programmer-multimedia-47.html', 'https://realpython.github.io/fake-jobs/jobs/engineer-broadcasting-operations-48.html', 'https://realpython.github.io/fake-jobs/jobs/teacher-primary-school-49.html', 'https://realpython.github.io/fake-jobs/jobs/python-developer-50.html', 'https://realpython.github.io/fake-jobs/jobs/manufacturing-systems-engineer-51.html', 'https://realpython.github.io/fake-jobs/jobs/producer-television-film-video-52.html', 'https://realpython.github.io/fake-jobs/jobs/scientist-forensic-53.html', 'https://realpython.github.io/fake-jobs/jobs/bonds-trader-54.html', 'https://realpython.github.io/fake-jobs/jobs/editorial-assistant-55.html', 'https://realpython.github.io/fake-jobs/jobs/photographer-56.html', 'https://realpython.github.io/fake-jobs/jobs/retail-banker-57.html', 'https://realpython.github.io/fake-jobs/jobs/jewellery-designer-58.html', 'https://realpython.github.io/fake-jobs/jobs/ophthalmologist-59.html', 'https://realpython.github.io/fake-jobs/jobs/back-end-web-developer-python-django-60.html', 'https://realpython.github.io/fake-jobs/jobs/licensed-conveyancer-61.html', 'https://realpython.github.io/fake-jobs/jobs/futures-trader-62.html', 'https://realpython.github.io/fake-jobs/jobs/counselling-psychologist-63.html', 'https://realpython.github.io/fake-jobs/jobs/insurance-underwriter-64.html', 'https://realpython.github.io/fake-jobs/jobs/engineer-automotive-65.html', 'https://realpython.github.io/fake-jobs/jobs/producer-radio-66.html', 'https://realpython.github.io/fake-jobs/jobs/dispensing-optician-67.html', 'https://realpython.github.io/fake-jobs/jobs/designer-fashion-clothing-68.html', 'https://realpython.github.io/fake-jobs/jobs/chartered-loss-adjuster-69.html', 'https://realpython.github.io/fake-jobs/jobs/back-end-web-developer-python-django-70.html', 'https://realpython.github.io/fake-jobs/jobs/forest-woodland-manager-71.html', 'https://realpython.github.io/fake-jobs/jobs/clinical-cytogeneticist-72.html', 'https://realpython.github.io/fake-jobs/jobs/print-production-planner-73.html', 'https://realpython.github.io/fake-jobs/jobs/systems-developer-74.html', 'https://realpython.github.io/fake-jobs/jobs/graphic-designer-75.html', 'https://realpython.github.io/fake-jobs/jobs/writer-76.html', 'https://realpython.github.io/fake-jobs/jobs/field-seismologist-77.html', 'https://realpython.github.io/fake-jobs/jobs/chief-strategy-officer-78.html', 'https://realpython.github.io/fake-jobs/jobs/air-cabin-crew-79.html', 'https://realpython.github.io/fake-jobs/jobs/python-programmer-entry-level-80.html', 'https://realpython.github.io/fake-jobs/jobs/warden-ranger-81.html', 'https://realpython.github.io/fake-jobs/jobs/sports-therapist-82.html', 'https://realpython.github.io/fake-jobs/jobs/arts-development-officer-83.html', 'https://realpython.github.io/fake-jobs/jobs/printmaker-84.html', 'https://realpython.github.io/fake-jobs/jobs/health-and-safety-adviser-85.html', 'https://realpython.github.io/fake-jobs/jobs/manufacturing-systems-engineer-86.html', 'https://realpython.github.io/fake-jobs/jobs/programmer-applications-87.html', 'https://realpython.github.io/fake-jobs/jobs/medical-physicist-88.html', 'https://realpython.github.io/fake-jobs/jobs/media-planner-89.html', 'https://realpython.github.io/fake-jobs/jobs/software-developer-python-90.html', 'https://realpython.github.io/fake-jobs/jobs/surveyor-land-geomatics-91.html', 'https://realpython.github.io/fake-jobs/jobs/legal-executive-92.html', 'https://realpython.github.io/fake-jobs/jobs/librarian-academic-93.html', 'https://realpython.github.io/fake-jobs/jobs/barrister-94.html', 'https://realpython.github.io/fake-jobs/jobs/museum-gallery-exhibitions-officer-95.html', 'https://realpython.github.io/fake-jobs/jobs/radiographer-diagnostic-96.html', 'https://realpython.github.io/fake-jobs/jobs/database-administrator-97.html', 'https://realpython.github.io/fake-jobs/jobs/furniture-designer-98.html', 'https://realpython.github.io/fake-jobs/jobs/ship-broker-99.html']\n"
     ]
    }
   ],
   "source": [
    "# Find all apply buttons. # Use string= when you know the exact text inside the tag\n",
    "apply_links = [a[\"href\"] for a in soup.find_all(\"a\", string=\"Apply\")]\n",
    "print(apply_links)"
   ]
  },
  {
   "cell_type": "code",
   "execution_count": null,
   "id": "1e457e34",
   "metadata": {},
   "outputs": [
    {
     "name": "stdout",
     "output_type": "stream",
     "text": [
      "                     Title                     Company              Location  \\\n",
      "0  Senior Python Developer    Payne, Roberts and Davis       Stewartbury, AA   \n",
      "1          Energy engineer            Vasquez-Davidson  Christopherville, AA   \n",
      "2          Legal executive  Jackson, Chambers and Levy   Port Ericaburgh, AA   \n",
      "3   Fitness centre manager              Savage-Bradley     East Seanview, AP   \n",
      "4          Product manager                 Ramirez Inc   North Jamieview, AP   \n",
      "\n",
      "         Date                                          Apply URL  \n",
      "0  2021-04-08  https://realpython.github.io/fake-jobs/jobs/se...  \n",
      "1  2021-04-08  https://realpython.github.io/fake-jobs/jobs/en...  \n",
      "2  2021-04-08  https://realpython.github.io/fake-jobs/jobs/le...  \n",
      "3  2021-04-08  https://realpython.github.io/fake-jobs/jobs/fi...  \n",
      "4  2021-04-08  https://realpython.github.io/fake-jobs/jobs/pr...  \n"
     ]
    }
   ],
   "source": [
    "# Add apply url column to the dataframe\n",
    "jobs_df[\"Apply URL\"] = apply_links\n",
    "\n",
    "# Check dataframe\n",
    "print(jobs_df.head())"
   ]
  },
  {
   "cell_type": "markdown",
   "id": "ccd7c3f7",
   "metadata": {},
   "source": [
    "2. b. Next, get those same urls in a different way. Examine the urls and see if you can spot the pattern of how they are constructed. Then, build the url using the elements you have already extracted. Ensure that the urls that you created match those that you extracted using BeautifulSoup. Warning: You will need to do some string cleaning and prep in constructing the urls this way. For example, look carefully at the urls for the \"Software Engineer (Python)\" job and the \"Scientist, research (maths)\" job."
   ]
  },
  {
   "cell_type": "code",
   "execution_count": null,
   "id": "f165a826",
   "metadata": {},
   "outputs": [
    {
     "name": "stdout",
     "output_type": "stream",
     "text": [
      "https://realpython.github.io/fake-jobs/jobs/senior-python-developer-0.html https://realpython.github.io/fake-jobs/senior-python-developer-0.html\n",
      "https://realpython.github.io/fake-jobs/jobs/energy-engineer-1.html https://realpython.github.io/fake-jobs/energy-engineer-1.html\n",
      "https://realpython.github.io/fake-jobs/jobs/legal-executive-2.html https://realpython.github.io/fake-jobs/legal-executive-2.html\n",
      "https://realpython.github.io/fake-jobs/jobs/fitness-centre-manager-3.html https://realpython.github.io/fake-jobs/fitness-centre-manager-3.html\n",
      "https://realpython.github.io/fake-jobs/jobs/product-manager-4.html https://realpython.github.io/fake-jobs/product-manager-4.html\n",
      "https://realpython.github.io/fake-jobs/jobs/medical-technical-officer-5.html https://realpython.github.io/fake-jobs/medical-technical-officer-5.html\n",
      "https://realpython.github.io/fake-jobs/jobs/physiological-scientist-6.html https://realpython.github.io/fake-jobs/physiological-scientist-6.html\n",
      "https://realpython.github.io/fake-jobs/jobs/textile-designer-7.html https://realpython.github.io/fake-jobs/textile-designer-7.html\n",
      "https://realpython.github.io/fake-jobs/jobs/television-floor-manager-8.html https://realpython.github.io/fake-jobs/television-floor-manager-8.html\n",
      "https://realpython.github.io/fake-jobs/jobs/waste-management-officer-9.html https://realpython.github.io/fake-jobs/waste-management-officer-9.html\n"
     ]
    }
   ],
   "source": [
    "# Set variable for base url\n",
    "base_url = \"https://realpython.github.io/fake-jobs/\"\n",
    "\n",
    "# Build function to construct full url\n",
    "def make_url(title, idx):\n",
    "    # Lowercase\n",
    "    url_title = title.lower()\n",
    "    # Replace spaces with hyphens\n",
    "    url_title = url_title.replace(\" \", \"-\")\n",
    "    # Remove commas and parentheses\n",
    "    url_title = url_title.replace(\",\", \"\").replace(\"(\", \"\").replace(\")\", \"\")\n",
    "    # Add index at the end\n",
    "    return f\"{base_url}{url_title}-{idx}.html\"\n",
    "\n",
    "# Create a list of constructed urls\n",
    "constructed_urls = [make_url(title, i) for i, title in enumerate(titles)]\n",
    "\n",
    "# Check that they match the ones we scraped\n",
    "for real, constructed in zip(apply_links[:10], constructed_urls[:10]):\n",
    "    print(real, constructed)\n",
    "\n",
    "#constructed_urls = [make_url(title) for title in titles]\n",
    "\n",
    "#for real, constructed in zip(apply_links, constructed_urls):\n",
    "#    print(real, constructed)"
   ]
  },
  {
   "cell_type": "code",
   "execution_count": 36,
   "id": "304fae19",
   "metadata": {},
   "outputs": [
    {
     "name": "stdout",
     "output_type": "stream",
     "text": [
      "                     Title                     Company              Location  \\\n",
      "0  Senior Python Developer    Payne, Roberts and Davis       Stewartbury, AA   \n",
      "1          Energy engineer            Vasquez-Davidson  Christopherville, AA   \n",
      "2          Legal executive  Jackson, Chambers and Levy   Port Ericaburgh, AA   \n",
      "3   Fitness centre manager              Savage-Bradley     East Seanview, AP   \n",
      "4          Product manager                 Ramirez Inc   North Jamieview, AP   \n",
      "\n",
      "         Date                                          Apply URL  \\\n",
      "0  2021-04-08  https://realpython.github.io/fake-jobs/jobs/se...   \n",
      "1  2021-04-08  https://realpython.github.io/fake-jobs/jobs/en...   \n",
      "2  2021-04-08  https://realpython.github.io/fake-jobs/jobs/le...   \n",
      "3  2021-04-08  https://realpython.github.io/fake-jobs/jobs/fi...   \n",
      "4  2021-04-08  https://realpython.github.io/fake-jobs/jobs/pr...   \n",
      "\n",
      "                                        Apply URL V2  \n",
      "0  https://realpython.github.io/fake-jobs/senior-...  \n",
      "1  https://realpython.github.io/fake-jobs/energy-...  \n",
      "2  https://realpython.github.io/fake-jobs/legal-e...  \n",
      "3  https://realpython.github.io/fake-jobs/fitness...  \n",
      "4  https://realpython.github.io/fake-jobs/product...  \n"
     ]
    }
   ],
   "source": [
    "# Add apply urls v2 to dataframe\n",
    "jobs_df[\"Apply URL V2\"] = constructed_urls\n",
    "\n",
    "# Check dataframe\n",
    "print(jobs_df.head())"
   ]
  },
  {
   "cell_type": "markdown",
   "id": "b9daa0d2",
   "metadata": {},
   "source": [
    "3. Finally, we want to get the job description text for each job.\n",
    "a. Start by looking at the page for the first job, https://realpython.github.io/fake-jobs/jobs/senior-python-developer-0.html. Using BeautifulSoup, extract the job description paragraph."
   ]
  },
  {
   "cell_type": "code",
   "execution_count": null,
   "id": "5527c220",
   "metadata": {},
   "outputs": [],
   "source": []
  },
  {
   "cell_type": "markdown",
   "id": "b5122b5c",
   "metadata": {},
   "source": [
    "3. b. We want to be able to do this for all pages. Write a function which takes as input a url and returns the description text on that page. For example, if you input \"https://realpython.github.io/fake-jobs/jobs/television-floor-manager-8.html\" into your function, it should return the string \"At be than always different American address. Former claim chance prevent why measure too. Almost before some military outside baby interview. Face top individual win suddenly. Parent do ten after those scientist. Medical effort assume teacher wall. Significant his himself clearly very. Expert stop area along individual. Three own bank recognize special good along.\"."
   ]
  },
  {
   "cell_type": "code",
   "execution_count": null,
   "id": "a497b478",
   "metadata": {},
   "outputs": [],
   "source": []
  },
  {
   "cell_type": "markdown",
   "id": "918df304",
   "metadata": {},
   "source": [
    "3. c. Use the .apply method on the url column you created above to retrieve the description text for all of the jobs."
   ]
  },
  {
   "cell_type": "code",
   "execution_count": null,
   "id": "9b9bd843",
   "metadata": {},
   "outputs": [],
   "source": []
  }
 ],
 "metadata": {
  "kernelspec": {
   "display_name": "base",
   "language": "python",
   "name": "python3"
  },
  "language_info": {
   "codemirror_mode": {
    "name": "ipython",
    "version": 3
   },
   "file_extension": ".py",
   "mimetype": "text/x-python",
   "name": "python",
   "nbconvert_exporter": "python",
   "pygments_lexer": "ipython3",
   "version": "3.13.5"
  }
 },
 "nbformat": 4,
 "nbformat_minor": 5
}
